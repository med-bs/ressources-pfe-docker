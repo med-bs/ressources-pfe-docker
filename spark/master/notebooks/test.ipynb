{
 "cells": [
  {
   "cell_type": "code",
   "execution_count": null,
   "metadata": {},
   "outputs": [],
   "source": [
    "from pyspark.sql import SparkSession\n",
    "import kafka\n",
    "from pyspark.sql.functions import from_json, col\n",
    "from pyspark.sql.types import StructType, StructField, StringType, IntegerType\n",
    "\n",
    "spark = SparkSession.builder.appName(\"KafkaConsumer\").getOrCreate()\n",
    "\n",
    "# Define the Kafka source configuration\n",
    "kafka_config = {\n",
    "    \"kafka.bootstrap.servers\": \"kafka:9092\",\n",
    "    \"subscribe\": \"dbserver3.inventory.customers\"\n",
    "}\n",
    "\n",
    "# Create a streaming DataFrame from the Kafka source\n",
    "df = spark \\\n",
    "    .readStream \\\n",
    "    .format(\"kafka\") \\\n",
    "    .options(**kafka_config) \\\n",
    "    .load() \\\n",
    "    .selectExpr(\"CAST(value AS STRING)\")\n",
    "\n",
    "# Print the incoming messages\n",
    "query = df \\\n",
    "    .writeStream \\\n",
    "    .outputMode(\"append\") \\\n",
    "    .format(\"console\") \\\n",
    "    .start()\n",
    "\n",
    "query.awaitTermination()"
   ]
  }
 ],
 "metadata": {
  "language_info": {
   "name": "python"
  },
  "orig_nbformat": 4
 },
 "nbformat": 4,
 "nbformat_minor": 2
}
