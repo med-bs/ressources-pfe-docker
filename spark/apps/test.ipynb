{
 "cells": [
  {
   "cell_type": "code",
   "execution_count": 4,
   "id": "6aa693e4-9718-4fdc-8929-c11f915aad7e",
   "metadata": {
    "tags": []
   },
   "outputs": [
    {
     "name": "stdout",
     "output_type": "stream",
     "text": [
      "Requirement already satisfied: kafka-python in /opt/conda/lib/python3.10/site-packages (2.0.2)\n"
     ]
    }
   ],
   "source": [
    "!pip install kafka-python"
   ]
  },
  {
   "cell_type": "code",
   "execution_count": 7,
   "id": "1fb9372a-a386-4dff-9c70-627d55516551",
   "metadata": {
    "tags": []
   },
   "outputs": [
    {
     "data": {
      "text/plain": [
       "{'dbserver1',\n",
       " 'dbserver1.inventory.addresses',\n",
       " 'dbserver1.inventory.customers',\n",
       " 'dbserver1.inventory.geom',\n",
       " 'dbserver1.inventory.orders',\n",
       " 'dbserver1.inventory.products',\n",
       " 'dbserver1.inventory.products_on_hand',\n",
       " 'dbserver3.inventory.customers',\n",
       " 'my_connect_configs',\n",
       " 'my_connect_offsets',\n",
       " 'my_connect_statuses',\n",
       " 'schema-changes.inventory'}"
      ]
     },
     "execution_count": 7,
     "metadata": {},
     "output_type": "execute_result"
    }
   ],
   "source": [
    "from kafka import KafkaConsumer\n",
    "\n",
    "# Set up the Kafka consumer instance\n",
    "consumer = KafkaConsumer(\n",
    "    'dbserver3.inventory.customers',\n",
    "    bootstrap_servers=['kafka:9092'],\n",
    ")\n",
    "\n",
    "consumer.topics()"
   ]
  },
  {
   "cell_type": "code",
   "execution_count": null,
   "id": "fff692e1-cca8-4344-a830-dbd4196e8561",
   "metadata": {
    "tags": []
   },
   "outputs": [],
   "source": [
    "# Continuously poll for new messages\n",
    "for message in consumer:\n",
    "    print(message)"
   ]
  }
 ],
 "metadata": {
  "kernelspec": {
   "display_name": "Python 3 (ipykernel)",
   "language": "python",
   "name": "python3"
  },
  "language_info": {
   "codemirror_mode": {
    "name": "ipython",
    "version": 3
   },
   "file_extension": ".py",
   "mimetype": "text/x-python",
   "name": "python",
   "nbconvert_exporter": "python",
   "pygments_lexer": "ipython3",
   "version": "3.10.10"
  }
 },
 "nbformat": 4,
 "nbformat_minor": 5
}
