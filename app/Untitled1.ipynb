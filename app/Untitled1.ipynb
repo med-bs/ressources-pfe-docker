{
 "cells": [
  {
   "cell_type": "code",
   "execution_count": 7,
   "id": "02f783f0-ec5f-4bd9-983f-79c30ad0638d",
   "metadata": {
    "tags": []
   },
   "outputs": [],
   "source": [
    "import redis\n",
    "\n",
    "# Connect to Redis\n",
    "redis_host = \"redis\"\n",
    "redis_port = 6379\n",
    "redis_db = 0\n",
    "redis_client = redis.StrictRedis(host=redis_host, port=redis_port, db=redis_db)"
   ]
  },
  {
   "cell_type": "code",
   "execution_count": 8,
   "id": "38ae8d1e-1464-4740-80b9-a0b15caf74fb",
   "metadata": {
    "tags": []
   },
   "outputs": [
    {
     "data": {
      "text/plain": [
       "[]"
      ]
     },
     "execution_count": 8,
     "metadata": {},
     "output_type": "execute_result"
    }
   ],
   "source": [
    "# Get all the keys\n",
    "keys = redis_client.keys()\n",
    "keys"
   ]
  },
  {
   "cell_type": "code",
   "execution_count": 9,
   "id": "439457e0-0991-4a00-81f7-b3364dfef3d7",
   "metadata": {
    "tags": []
   },
   "outputs": [
    {
     "data": {
      "text/plain": [
       "[]"
      ]
     },
     "execution_count": 9,
     "metadata": {},
     "output_type": "execute_result"
    }
   ],
   "source": [
    "# Get the values for all the keys\n",
    "values = redis_client.mget(keys)\n",
    "values"
   ]
  },
  {
   "cell_type": "code",
   "execution_count": null,
   "id": "8966605e-9648-4420-87cf-9092366fa89c",
   "metadata": {},
   "outputs": [],
   "source": [
    "# Print the keys and values\n",
    "for key, value in zip(keys, values):\n",
    "    print(f\"{key}: {value}\")"
   ]
  }
 ],
 "metadata": {
  "kernelspec": {
   "display_name": "Python 3 (ipykernel)",
   "language": "python",
   "name": "python3"
  },
  "language_info": {
   "codemirror_mode": {
    "name": "ipython",
    "version": 3
   },
   "file_extension": ".py",
   "mimetype": "text/x-python",
   "name": "python",
   "nbconvert_exporter": "python",
   "pygments_lexer": "ipython3",
   "version": "3.10.10"
  }
 },
 "nbformat": 4,
 "nbformat_minor": 5
}
