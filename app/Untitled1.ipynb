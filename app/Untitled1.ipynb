{
 "cells": [
  {
   "cell_type": "code",
   "execution_count": 6,
   "id": "02f783f0-ec5f-4bd9-983f-79c30ad0638d",
   "metadata": {
    "tags": []
   },
   "outputs": [],
   "source": [
    "import redis\n",
    "\n",
    "# Connect to Redis\n",
    "redis_host = \"redis\"\n",
    "redis_port = 6379\n",
    "redis_db = 0\n",
    "redis_client = redis.StrictRedis(host=redis_host, port=redis_port, db=redis_db)"
   ]
  },
  {
   "cell_type": "code",
   "execution_count": 12,
   "id": "38ae8d1e-1464-4740-80b9-a0b15caf74fb",
   "metadata": {
    "tags": []
   },
   "outputs": [
    {
     "data": {
      "text/plain": [
       "[b'5']"
      ]
     },
     "execution_count": 12,
     "metadata": {},
     "output_type": "execute_result"
    }
   ],
   "source": [
    "# Get all the keys\n",
    "keys = redis_client.keys()\n",
    "keys"
   ]
  },
  {
   "cell_type": "code",
   "execution_count": 13,
   "id": "439457e0-0991-4a00-81f7-b3364dfef3d7",
   "metadata": {
    "tags": []
   },
   "outputs": [
    {
     "data": {
      "text/plain": [
       "[b'{\"value\": \"{\\\\\"schema\\\\\":{\\\\\"type\\\\\":\\\\\"struct\\\\\",\\\\\"fields\\\\\":[{\\\\\"type\\\\\":\\\\\"struct\\\\\",\\\\\"fields\\\\\":[{\\\\\"type\\\\\":\\\\\"int32\\\\\",\\\\\"optional\\\\\":false,\\\\\"field\\\\\":\\\\\"id\\\\\"},{\\\\\"type\\\\\":\\\\\"int32\\\\\",\\\\\"optional\\\\\":false,\\\\\"field\\\\\":\\\\\"customer_id\\\\\"},{\\\\\"type\\\\\":\\\\\"string\\\\\",\\\\\"optional\\\\\":false,\\\\\"field\\\\\":\\\\\"street\\\\\"},{\\\\\"type\\\\\":\\\\\"string\\\\\",\\\\\"optional\\\\\":false,\\\\\"field\\\\\":\\\\\"city\\\\\"},{\\\\\"type\\\\\":\\\\\"string\\\\\",\\\\\"optional\\\\\":false,\\\\\"field\\\\\":\\\\\"state\\\\\"},{\\\\\"type\\\\\":\\\\\"string\\\\\",\\\\\"optional\\\\\":false,\\\\\"field\\\\\":\\\\\"zip\\\\\"},{\\\\\"type\\\\\":\\\\\"string\\\\\",\\\\\"optional\\\\\":false,\\\\\"name\\\\\":\\\\\"io.debezium.data.Enum\\\\\",\\\\\"version\\\\\":1,\\\\\"parameters\\\\\":{\\\\\"allowed\\\\\":\\\\\"SHIPPING,BILLING,LIVING\\\\\"},\\\\\"field\\\\\":\\\\\"type\\\\\"}],\\\\\"optional\\\\\":true,\\\\\"name\\\\\":\\\\\"dbserver2.inventory.addresses.Value\\\\\",\\\\\"field\\\\\":\\\\\"before\\\\\"},{\\\\\"type\\\\\":\\\\\"struct\\\\\",\\\\\"fields\\\\\":[{\\\\\"type\\\\\":\\\\\"int32\\\\\",\\\\\"optional\\\\\":false,\\\\\"field\\\\\":\\\\\"id\\\\\"},{\\\\\"type\\\\\":\\\\\"int32\\\\\",\\\\\"optional\\\\\":false,\\\\\"field\\\\\":\\\\\"customer_id\\\\\"},{\\\\\"type\\\\\":\\\\\"string\\\\\",\\\\\"optional\\\\\":false,\\\\\"field\\\\\":\\\\\"street\\\\\"},{\\\\\"type\\\\\":\\\\\"string\\\\\",\\\\\"optional\\\\\":false,\\\\\"field\\\\\":\\\\\"city\\\\\"},{\\\\\"type\\\\\":\\\\\"string\\\\\",\\\\\"optional\\\\\":false,\\\\\"field\\\\\":\\\\\"state\\\\\"},{\\\\\"type\\\\\":\\\\\"string\\\\\",\\\\\"optional\\\\\":false,\\\\\"field\\\\\":\\\\\"zip\\\\\"},{\\\\\"type\\\\\":\\\\\"string\\\\\",\\\\\"optional\\\\\":false,\\\\\"name\\\\\":\\\\\"io.debezium.data.Enum\\\\\",\\\\\"version\\\\\":1,\\\\\"parameters\\\\\":{\\\\\"allowed\\\\\":\\\\\"SHIPPING,BILLING,LIVING\\\\\"},\\\\\"field\\\\\":\\\\\"type\\\\\"}],\\\\\"optional\\\\\":true,\\\\\"name\\\\\":\\\\\"dbserver2.inventory.addresses.Value\\\\\",\\\\\"field\\\\\":\\\\\"after\\\\\"},{\\\\\"type\\\\\":\\\\\"struct\\\\\",\\\\\"fields\\\\\":[{\\\\\"type\\\\\":\\\\\"string\\\\\",\\\\\"optional\\\\\":false,\\\\\"field\\\\\":\\\\\"version\\\\\"},{\\\\\"type\\\\\":\\\\\"string\\\\\",\\\\\"optional\\\\\":false,\\\\\"field\\\\\":\\\\\"connector\\\\\"},{\\\\\"type\\\\\":\\\\\"string\\\\\",\\\\\"optional\\\\\":false,\\\\\"field\\\\\":\\\\\"name\\\\\"},{\\\\\"type\\\\\":\\\\\"int64\\\\\",\\\\\"optional\\\\\":false,\\\\\"field\\\\\":\\\\\"ts_ms\\\\\"},{\\\\\"type\\\\\":\\\\\"string\\\\\",\\\\\"optional\\\\\":true,\\\\\"name\\\\\":\\\\\"io.debezium.data.Enum\\\\\",\\\\\"version\\\\\":1,\\\\\"parameters\\\\\":{\\\\\"allowed\\\\\":\\\\\"true,last,false\\\\\"},\\\\\"default\\\\\":\\\\\"false\\\\\",\\\\\"field\\\\\":\\\\\"snapshot\\\\\"},{\\\\\"type\\\\\":\\\\\"string\\\\\",\\\\\"optional\\\\\":false,\\\\\"field\\\\\":\\\\\"db\\\\\"},{\\\\\"type\\\\\":\\\\\"string\\\\\",\\\\\"optional\\\\\":true,\\\\\"field\\\\\":\\\\\"sequence\\\\\"},{\\\\\"type\\\\\":\\\\\"string\\\\\",\\\\\"optional\\\\\":true,\\\\\"field\\\\\":\\\\\"table\\\\\"},{\\\\\"type\\\\\":\\\\\"int64\\\\\",\\\\\"optional\\\\\":false,\\\\\"field\\\\\":\\\\\"server_id\\\\\"},{\\\\\"type\\\\\":\\\\\"string\\\\\",\\\\\"optional\\\\\":true,\\\\\"field\\\\\":\\\\\"gtid\\\\\"},{\\\\\"type\\\\\":\\\\\"string\\\\\",\\\\\"optional\\\\\":false,\\\\\"field\\\\\":\\\\\"file\\\\\"},{\\\\\"type\\\\\":\\\\\"int64\\\\\",\\\\\"optional\\\\\":false,\\\\\"field\\\\\":\\\\\"pos\\\\\"},{\\\\\"type\\\\\":\\\\\"int32\\\\\",\\\\\"optional\\\\\":false,\\\\\"field\\\\\":\\\\\"row\\\\\"},{\\\\\"type\\\\\":\\\\\"int64\\\\\",\\\\\"optional\\\\\":true,\\\\\"field\\\\\":\\\\\"thread\\\\\"},{\\\\\"type\\\\\":\\\\\"string\\\\\",\\\\\"optional\\\\\":true,\\\\\"field\\\\\":\\\\\"query\\\\\"}],\\\\\"optional\\\\\":false,\\\\\"name\\\\\":\\\\\"io.debezium.connector.mysql.Source\\\\\",\\\\\"field\\\\\":\\\\\"source\\\\\"},{\\\\\"type\\\\\":\\\\\"string\\\\\",\\\\\"optional\\\\\":false,\\\\\"field\\\\\":\\\\\"op\\\\\"},{\\\\\"type\\\\\":\\\\\"int64\\\\\",\\\\\"optional\\\\\":true,\\\\\"field\\\\\":\\\\\"ts_ms\\\\\"},{\\\\\"type\\\\\":\\\\\"struct\\\\\",\\\\\"fields\\\\\":[{\\\\\"type\\\\\":\\\\\"string\\\\\",\\\\\"optional\\\\\":false,\\\\\"field\\\\\":\\\\\"id\\\\\"},{\\\\\"type\\\\\":\\\\\"int64\\\\\",\\\\\"optional\\\\\":false,\\\\\"field\\\\\":\\\\\"total_order\\\\\"},{\\\\\"type\\\\\":\\\\\"int64\\\\\",\\\\\"optional\\\\\":false,\\\\\"field\\\\\":\\\\\"data_collection_order\\\\\"}],\\\\\"optional\\\\\":true,\\\\\"field\\\\\":\\\\\"transaction\\\\\"}],\\\\\"optional\\\\\":false,\\\\\"name\\\\\":\\\\\"dbserver2.inventory.addresses.Envelope\\\\\"},\\\\\"payload\\\\\":{\\\\\"before\\\\\":{\\\\\"id\\\\\":13,\\\\\"customer_id\\\\\":1003,\\\\\"street\\\\\":\\\\\"3787 Brownton Road\\\\\",\\\\\"city\\\\\":\\\\\"Columbus\\\\\",\\\\\"state\\\\\":\\\\\"Mississippi\\\\\",\\\\\"zip\\\\\":\\\\\"39701\\\\\",\\\\\"type\\\\\":\\\\\"SHIPPING\\\\\"},\\\\\"after\\\\\":{\\\\\"id\\\\\":13,\\\\\"customer_id\\\\\":1003,\\\\\"street\\\\\":\\\\\"3787 Brownton Road\\\\\",\\\\\"city\\\\\":\\\\\"Columbus\\\\\",\\\\\"state\\\\\":\\\\\"Mississippi1\\\\\",\\\\\"zip\\\\\":\\\\\"39701\\\\\",\\\\\"type\\\\\":\\\\\"SHIPPING\\\\\"},\\\\\"source\\\\\":{\\\\\"version\\\\\":\\\\\"1.6.3.Final\\\\\",\\\\\"connector\\\\\":\\\\\"mysql\\\\\",\\\\\"name\\\\\":\\\\\"dbserver2\\\\\",\\\\\"ts_ms\\\\\":1681491779000,\\\\\"snapshot\\\\\":\\\\\"false\\\\\",\\\\\"db\\\\\":\\\\\"inventory\\\\\",\\\\\"sequence\\\\\":null,\\\\\"table\\\\\":\\\\\"addresses\\\\\",\\\\\"server_id\\\\\":223344,\\\\\"gtid\\\\\":null,\\\\\"file\\\\\":\\\\\"mysql-bin.000017\\\\\",\\\\\"pos\\\\\":5426,\\\\\"row\\\\\":0,\\\\\"thread\\\\\":null,\\\\\"query\\\\\":null},\\\\\"op\\\\\":\\\\\"u\\\\\",\\\\\"ts_ms\\\\\":1681491780262,\\\\\"transaction\\\\\":null}}\"}']"
      ]
     },
     "execution_count": 13,
     "metadata": {},
     "output_type": "execute_result"
    }
   ],
   "source": [
    "# Get the values for all the keys\n",
    "values = redis_client.mget(keys)\n",
    "values"
   ]
  },
  {
   "cell_type": "code",
   "execution_count": 14,
   "id": "8966605e-9648-4420-87cf-9092366fa89c",
   "metadata": {
    "tags": []
   },
   "outputs": [
    {
     "name": "stdout",
     "output_type": "stream",
     "text": [
      "b'5': b'{\"value\": \"{\\\\\"schema\\\\\":{\\\\\"type\\\\\":\\\\\"struct\\\\\",\\\\\"fields\\\\\":[{\\\\\"type\\\\\":\\\\\"struct\\\\\",\\\\\"fields\\\\\":[{\\\\\"type\\\\\":\\\\\"int32\\\\\",\\\\\"optional\\\\\":false,\\\\\"field\\\\\":\\\\\"id\\\\\"},{\\\\\"type\\\\\":\\\\\"int32\\\\\",\\\\\"optional\\\\\":false,\\\\\"field\\\\\":\\\\\"customer_id\\\\\"},{\\\\\"type\\\\\":\\\\\"string\\\\\",\\\\\"optional\\\\\":false,\\\\\"field\\\\\":\\\\\"street\\\\\"},{\\\\\"type\\\\\":\\\\\"string\\\\\",\\\\\"optional\\\\\":false,\\\\\"field\\\\\":\\\\\"city\\\\\"},{\\\\\"type\\\\\":\\\\\"string\\\\\",\\\\\"optional\\\\\":false,\\\\\"field\\\\\":\\\\\"state\\\\\"},{\\\\\"type\\\\\":\\\\\"string\\\\\",\\\\\"optional\\\\\":false,\\\\\"field\\\\\":\\\\\"zip\\\\\"},{\\\\\"type\\\\\":\\\\\"string\\\\\",\\\\\"optional\\\\\":false,\\\\\"name\\\\\":\\\\\"io.debezium.data.Enum\\\\\",\\\\\"version\\\\\":1,\\\\\"parameters\\\\\":{\\\\\"allowed\\\\\":\\\\\"SHIPPING,BILLING,LIVING\\\\\"},\\\\\"field\\\\\":\\\\\"type\\\\\"}],\\\\\"optional\\\\\":true,\\\\\"name\\\\\":\\\\\"dbserver2.inventory.addresses.Value\\\\\",\\\\\"field\\\\\":\\\\\"before\\\\\"},{\\\\\"type\\\\\":\\\\\"struct\\\\\",\\\\\"fields\\\\\":[{\\\\\"type\\\\\":\\\\\"int32\\\\\",\\\\\"optional\\\\\":false,\\\\\"field\\\\\":\\\\\"id\\\\\"},{\\\\\"type\\\\\":\\\\\"int32\\\\\",\\\\\"optional\\\\\":false,\\\\\"field\\\\\":\\\\\"customer_id\\\\\"},{\\\\\"type\\\\\":\\\\\"string\\\\\",\\\\\"optional\\\\\":false,\\\\\"field\\\\\":\\\\\"street\\\\\"},{\\\\\"type\\\\\":\\\\\"string\\\\\",\\\\\"optional\\\\\":false,\\\\\"field\\\\\":\\\\\"city\\\\\"},{\\\\\"type\\\\\":\\\\\"string\\\\\",\\\\\"optional\\\\\":false,\\\\\"field\\\\\":\\\\\"state\\\\\"},{\\\\\"type\\\\\":\\\\\"string\\\\\",\\\\\"optional\\\\\":false,\\\\\"field\\\\\":\\\\\"zip\\\\\"},{\\\\\"type\\\\\":\\\\\"string\\\\\",\\\\\"optional\\\\\":false,\\\\\"name\\\\\":\\\\\"io.debezium.data.Enum\\\\\",\\\\\"version\\\\\":1,\\\\\"parameters\\\\\":{\\\\\"allowed\\\\\":\\\\\"SHIPPING,BILLING,LIVING\\\\\"},\\\\\"field\\\\\":\\\\\"type\\\\\"}],\\\\\"optional\\\\\":true,\\\\\"name\\\\\":\\\\\"dbserver2.inventory.addresses.Value\\\\\",\\\\\"field\\\\\":\\\\\"after\\\\\"},{\\\\\"type\\\\\":\\\\\"struct\\\\\",\\\\\"fields\\\\\":[{\\\\\"type\\\\\":\\\\\"string\\\\\",\\\\\"optional\\\\\":false,\\\\\"field\\\\\":\\\\\"version\\\\\"},{\\\\\"type\\\\\":\\\\\"string\\\\\",\\\\\"optional\\\\\":false,\\\\\"field\\\\\":\\\\\"connector\\\\\"},{\\\\\"type\\\\\":\\\\\"string\\\\\",\\\\\"optional\\\\\":false,\\\\\"field\\\\\":\\\\\"name\\\\\"},{\\\\\"type\\\\\":\\\\\"int64\\\\\",\\\\\"optional\\\\\":false,\\\\\"field\\\\\":\\\\\"ts_ms\\\\\"},{\\\\\"type\\\\\":\\\\\"string\\\\\",\\\\\"optional\\\\\":true,\\\\\"name\\\\\":\\\\\"io.debezium.data.Enum\\\\\",\\\\\"version\\\\\":1,\\\\\"parameters\\\\\":{\\\\\"allowed\\\\\":\\\\\"true,last,false\\\\\"},\\\\\"default\\\\\":\\\\\"false\\\\\",\\\\\"field\\\\\":\\\\\"snapshot\\\\\"},{\\\\\"type\\\\\":\\\\\"string\\\\\",\\\\\"optional\\\\\":false,\\\\\"field\\\\\":\\\\\"db\\\\\"},{\\\\\"type\\\\\":\\\\\"string\\\\\",\\\\\"optional\\\\\":true,\\\\\"field\\\\\":\\\\\"sequence\\\\\"},{\\\\\"type\\\\\":\\\\\"string\\\\\",\\\\\"optional\\\\\":true,\\\\\"field\\\\\":\\\\\"table\\\\\"},{\\\\\"type\\\\\":\\\\\"int64\\\\\",\\\\\"optional\\\\\":false,\\\\\"field\\\\\":\\\\\"server_id\\\\\"},{\\\\\"type\\\\\":\\\\\"string\\\\\",\\\\\"optional\\\\\":true,\\\\\"field\\\\\":\\\\\"gtid\\\\\"},{\\\\\"type\\\\\":\\\\\"string\\\\\",\\\\\"optional\\\\\":false,\\\\\"field\\\\\":\\\\\"file\\\\\"},{\\\\\"type\\\\\":\\\\\"int64\\\\\",\\\\\"optional\\\\\":false,\\\\\"field\\\\\":\\\\\"pos\\\\\"},{\\\\\"type\\\\\":\\\\\"int32\\\\\",\\\\\"optional\\\\\":false,\\\\\"field\\\\\":\\\\\"row\\\\\"},{\\\\\"type\\\\\":\\\\\"int64\\\\\",\\\\\"optional\\\\\":true,\\\\\"field\\\\\":\\\\\"thread\\\\\"},{\\\\\"type\\\\\":\\\\\"string\\\\\",\\\\\"optional\\\\\":true,\\\\\"field\\\\\":\\\\\"query\\\\\"}],\\\\\"optional\\\\\":false,\\\\\"name\\\\\":\\\\\"io.debezium.connector.mysql.Source\\\\\",\\\\\"field\\\\\":\\\\\"source\\\\\"},{\\\\\"type\\\\\":\\\\\"string\\\\\",\\\\\"optional\\\\\":false,\\\\\"field\\\\\":\\\\\"op\\\\\"},{\\\\\"type\\\\\":\\\\\"int64\\\\\",\\\\\"optional\\\\\":true,\\\\\"field\\\\\":\\\\\"ts_ms\\\\\"},{\\\\\"type\\\\\":\\\\\"struct\\\\\",\\\\\"fields\\\\\":[{\\\\\"type\\\\\":\\\\\"string\\\\\",\\\\\"optional\\\\\":false,\\\\\"field\\\\\":\\\\\"id\\\\\"},{\\\\\"type\\\\\":\\\\\"int64\\\\\",\\\\\"optional\\\\\":false,\\\\\"field\\\\\":\\\\\"total_order\\\\\"},{\\\\\"type\\\\\":\\\\\"int64\\\\\",\\\\\"optional\\\\\":false,\\\\\"field\\\\\":\\\\\"data_collection_order\\\\\"}],\\\\\"optional\\\\\":true,\\\\\"field\\\\\":\\\\\"transaction\\\\\"}],\\\\\"optional\\\\\":false,\\\\\"name\\\\\":\\\\\"dbserver2.inventory.addresses.Envelope\\\\\"},\\\\\"payload\\\\\":{\\\\\"before\\\\\":{\\\\\"id\\\\\":13,\\\\\"customer_id\\\\\":1003,\\\\\"street\\\\\":\\\\\"3787 Brownton Road\\\\\",\\\\\"city\\\\\":\\\\\"Columbus\\\\\",\\\\\"state\\\\\":\\\\\"Mississippi\\\\\",\\\\\"zip\\\\\":\\\\\"39701\\\\\",\\\\\"type\\\\\":\\\\\"SHIPPING\\\\\"},\\\\\"after\\\\\":{\\\\\"id\\\\\":13,\\\\\"customer_id\\\\\":1003,\\\\\"street\\\\\":\\\\\"3787 Brownton Road\\\\\",\\\\\"city\\\\\":\\\\\"Columbus\\\\\",\\\\\"state\\\\\":\\\\\"Mississippi1\\\\\",\\\\\"zip\\\\\":\\\\\"39701\\\\\",\\\\\"type\\\\\":\\\\\"SHIPPING\\\\\"},\\\\\"source\\\\\":{\\\\\"version\\\\\":\\\\\"1.6.3.Final\\\\\",\\\\\"connector\\\\\":\\\\\"mysql\\\\\",\\\\\"name\\\\\":\\\\\"dbserver2\\\\\",\\\\\"ts_ms\\\\\":1681491779000,\\\\\"snapshot\\\\\":\\\\\"false\\\\\",\\\\\"db\\\\\":\\\\\"inventory\\\\\",\\\\\"sequence\\\\\":null,\\\\\"table\\\\\":\\\\\"addresses\\\\\",\\\\\"server_id\\\\\":223344,\\\\\"gtid\\\\\":null,\\\\\"file\\\\\":\\\\\"mysql-bin.000017\\\\\",\\\\\"pos\\\\\":5426,\\\\\"row\\\\\":0,\\\\\"thread\\\\\":null,\\\\\"query\\\\\":null},\\\\\"op\\\\\":\\\\\"u\\\\\",\\\\\"ts_ms\\\\\":1681491780262,\\\\\"transaction\\\\\":null}}\"}'\n"
     ]
    }
   ],
   "source": [
    "# Print the keys and values\n",
    "for key, value in zip(keys, values):\n",
    "    print(f\"{key}: {value}\")"
   ]
  },
  {
   "cell_type": "code",
   "execution_count": null,
   "id": "eea10073-5e55-423f-aafb-b2c2e4763320",
   "metadata": {},
   "outputs": [],
   "source": []
  }
 ],
 "metadata": {
  "kernelspec": {
   "display_name": "Python 3 (ipykernel)",
   "language": "python",
   "name": "python3"
  },
  "language_info": {
   "codemirror_mode": {
    "name": "ipython",
    "version": 3
   },
   "file_extension": ".py",
   "mimetype": "text/x-python",
   "name": "python",
   "nbconvert_exporter": "python",
   "pygments_lexer": "ipython3",
   "version": "3.10.10"
  }
 },
 "nbformat": 4,
 "nbformat_minor": 5
}
