{
 "cells": [
  {
   "cell_type": "code",
   "execution_count": 7,
   "id": "50cedcd9-343f-4d88-8732-41e867474f92",
   "metadata": {
    "tags": []
   },
   "outputs": [
    {
     "name": "stdout",
     "output_type": "stream",
     "text": [
      "Requirement already satisfied: kafka-python in /opt/conda/lib/python3.10/site-packages (2.0.2)\n"
     ]
    }
   ],
   "source": [
    "!pip install kafka-python"
   ]
  },
  {
   "cell_type": "code",
   "execution_count": 8,
   "id": "f1b1cfaf-553d-4f76-bf40-1f854bdbac15",
   "metadata": {
    "tags": []
   },
   "outputs": [
    {
     "data": {
      "text/plain": [
       "{'dbserver2',\n",
       " 'dbserver2.inventory.addresses',\n",
       " 'dbserver2.inventory.customers',\n",
       " 'dbserver2.inventory.geom',\n",
       " 'dbserver2.inventory.orders',\n",
       " 'dbserver2.inventory.products',\n",
       " 'dbserver2.inventory.products_on_hand',\n",
       " 'my_connect_configs',\n",
       " 'my_connect_offsets',\n",
       " 'my_connect_statuses',\n",
       " 'schema-changes.inventory'}"
      ]
     },
     "execution_count": 8,
     "metadata": {},
     "output_type": "execute_result"
    }
   ],
   "source": [
    "from kafka import KafkaConsumer\n",
    "\n",
    "# Set up the Kafka consumer instance\n",
    "consumer = KafkaConsumer(\n",
    "    'dbserver2.inventory.customers',\n",
    "    bootstrap_servers=['kafka:9092'],\n",
    ")\n",
    "\n",
    "#bin/kafka-console-consumer.sh --bootstrap-server kafka:9092 --topic dbserver2.inventory.customers\n",
    "\n",
    "consumer.topics()"
   ]
  },
  {
   "cell_type": "code",
   "execution_count": null,
   "id": "3f5916d4-c124-4115-93ea-aa673251b4c9",
   "metadata": {
    "tags": []
   },
   "outputs": [],
   "source": [
    "# Continuously poll for new messages\n",
    "for message in consumer:\n",
    "    print(message)"
   ]
  },
  {
   "cell_type": "code",
   "execution_count": null,
   "id": "f40c82c1-727b-467c-a262-9926c04830b0",
   "metadata": {},
   "outputs": [],
   "source": []
  }
 ],
 "metadata": {
  "kernelspec": {
   "display_name": "Python 3 (ipykernel)",
   "language": "python",
   "name": "python3"
  },
  "language_info": {
   "codemirror_mode": {
    "name": "ipython",
    "version": 3
   },
   "file_extension": ".py",
   "mimetype": "text/x-python",
   "name": "python",
   "nbconvert_exporter": "python",
   "pygments_lexer": "ipython3",
   "version": "3.10.10"
  }
 },
 "nbformat": 4,
 "nbformat_minor": 5
}
