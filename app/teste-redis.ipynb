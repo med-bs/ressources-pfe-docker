{
 "cells": [
  {
   "cell_type": "code",
   "execution_count": 4,
   "id": "d99a4eab-67a6-4104-8624-a24c24a919d3",
   "metadata": {
    "tags": []
   },
   "outputs": [
    {
     "data": {
      "text/plain": [
       "True"
      ]
     },
     "execution_count": 4,
     "metadata": {},
     "output_type": "execute_result"
    }
   ],
   "source": [
    "import redis\n",
    "from pyspark.sql import SparkSession\n",
    "import pandas as pd\n",
    "import pickle\n",
    "\n",
    "# Connect to Redis\n",
    "redis_host = 'redis'\n",
    "redis_port = 6379\n",
    "redis_db = 0\n",
    "redis_conn = redis.Redis(host=redis_host, port=redis_port, db=redis_db)\n",
    "\n",
    "# Create a PySpark DataFrame\n",
    "spark = SparkSession.builder.appName(\"RedisDataFrame\").getOrCreate()\n",
    "data = [(\"Alice\", 25), (\"Bob\", 30), (\"Charlie\", 35)]\n",
    "columns = [\"Name\", \"Age\"]\n",
    "df = spark.createDataFrame(data, columns)\n",
    "\n",
    "# Convert the PySpark DataFrame to a Pandas DataFrame\n",
    "pdf = df.toPandas()\n",
    "\n",
    "# Save the Pandas DataFrame to Redis\n",
    "redis_key = \"my_data_frame\"\n",
    "redis_conn.set(redis_key, pickle.dumps(pdf))\n",
    "\n"
   ]
  },
  {
   "cell_type": "code",
   "execution_count": null,
   "id": "3b0a5273-3211-454c-a8f8-8138b29e128d",
   "metadata": {},
   "outputs": [],
   "source": []
  }
 ],
 "metadata": {
  "kernelspec": {
   "display_name": "Python 3 (ipykernel)",
   "language": "python",
   "name": "python3"
  },
  "language_info": {
   "codemirror_mode": {
    "name": "ipython",
    "version": 3
   },
   "file_extension": ".py",
   "mimetype": "text/x-python",
   "name": "python",
   "nbconvert_exporter": "python",
   "pygments_lexer": "ipython3",
   "version": "3.10.10"
  }
 },
 "nbformat": 4,
 "nbformat_minor": 5
}
